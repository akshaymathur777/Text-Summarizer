{
  "nbformat": 4,
  "nbformat_minor": 0,
  "metadata": {
    "colab": {
      "name": "Bart.ipynb",
      "provenance": [],
      "collapsed_sections": [],
      "authorship_tag": "ABX9TyNbooq0tVdCARJ1IWm/Z7RW",
      "include_colab_link": true
    },
    "kernelspec": {
      "name": "python3",
      "display_name": "Python 3"
    },
    "accelerator": "GPU"
  },
  "cells": [
    {
      "cell_type": "markdown",
      "metadata": {
        "id": "view-in-github",
        "colab_type": "text"
      },
      "source": [
        "<a href=\"https://colab.research.google.com/github/akshaymathur777/Text-Summerizer/blob/master/Bart.ipynb\" target=\"_parent\"><img src=\"https://colab.research.google.com/assets/colab-badge.svg\" alt=\"Open In Colab\"/></a>"
      ]
    },
    {
      "cell_type": "code",
      "metadata": {
        "id": "OWlTL1zdIelJ",
        "colab_type": "code",
        "colab": {
          "base_uri": "https://localhost:8080/",
          "height": 336
        },
        "outputId": "a079b6c4-3d4e-4027-a54c-7def67da6dfe"
      },
      "source": [
        "!pip install transformers"
      ],
      "execution_count": null,
      "outputs": [
        {
          "output_type": "stream",
          "text": [
            "Requirement already satisfied: transformers in /usr/local/lib/python3.6/dist-packages (2.11.0)\n",
            "Requirement already satisfied: packaging in /usr/local/lib/python3.6/dist-packages (from transformers) (20.4)\n",
            "Requirement already satisfied: regex!=2019.12.17 in /usr/local/lib/python3.6/dist-packages (from transformers) (2019.12.20)\n",
            "Requirement already satisfied: sentencepiece in /usr/local/lib/python3.6/dist-packages (from transformers) (0.1.91)\n",
            "Requirement already satisfied: requests in /usr/local/lib/python3.6/dist-packages (from transformers) (2.23.0)\n",
            "Requirement already satisfied: sacremoses in /usr/local/lib/python3.6/dist-packages (from transformers) (0.0.43)\n",
            "Requirement already satisfied: dataclasses; python_version < \"3.7\" in /usr/local/lib/python3.6/dist-packages (from transformers) (0.7)\n",
            "Requirement already satisfied: filelock in /usr/local/lib/python3.6/dist-packages (from transformers) (3.0.12)\n",
            "Requirement already satisfied: tqdm>=4.27 in /usr/local/lib/python3.6/dist-packages (from transformers) (4.41.1)\n",
            "Requirement already satisfied: numpy in /usr/local/lib/python3.6/dist-packages (from transformers) (1.18.5)\n",
            "Requirement already satisfied: tokenizers==0.7.0 in /usr/local/lib/python3.6/dist-packages (from transformers) (0.7.0)\n",
            "Requirement already satisfied: pyparsing>=2.0.2 in /usr/local/lib/python3.6/dist-packages (from packaging->transformers) (2.4.7)\n",
            "Requirement already satisfied: six in /usr/local/lib/python3.6/dist-packages (from packaging->transformers) (1.12.0)\n",
            "Requirement already satisfied: idna<3,>=2.5 in /usr/local/lib/python3.6/dist-packages (from requests->transformers) (2.9)\n",
            "Requirement already satisfied: chardet<4,>=3.0.2 in /usr/local/lib/python3.6/dist-packages (from requests->transformers) (3.0.4)\n",
            "Requirement already satisfied: urllib3!=1.25.0,!=1.25.1,<1.26,>=1.21.1 in /usr/local/lib/python3.6/dist-packages (from requests->transformers) (1.24.3)\n",
            "Requirement already satisfied: certifi>=2017.4.17 in /usr/local/lib/python3.6/dist-packages (from requests->transformers) (2020.4.5.2)\n",
            "Requirement already satisfied: click in /usr/local/lib/python3.6/dist-packages (from sacremoses->transformers) (7.1.2)\n",
            "Requirement already satisfied: joblib in /usr/local/lib/python3.6/dist-packages (from sacremoses->transformers) (0.15.1)\n"
          ],
          "name": "stdout"
        }
      ]
    },
    {
      "cell_type": "code",
      "metadata": {
        "id": "ptOlDyahI0U_",
        "colab_type": "code",
        "colab": {
          "base_uri": "https://localhost:8080/",
          "height": 118
        },
        "outputId": "9ba27aec-5c3b-4639-c476-ffc2b4a5a230"
      },
      "source": [
        "!pip install youtube_transcript_api"
      ],
      "execution_count": null,
      "outputs": [
        {
          "output_type": "stream",
          "text": [
            "Requirement already satisfied: youtube_transcript_api in /usr/local/lib/python3.6/dist-packages (0.3.1)\n",
            "Requirement already satisfied: requests in /usr/local/lib/python3.6/dist-packages (from youtube_transcript_api) (2.23.0)\n",
            "Requirement already satisfied: certifi>=2017.4.17 in /usr/local/lib/python3.6/dist-packages (from requests->youtube_transcript_api) (2020.4.5.2)\n",
            "Requirement already satisfied: idna<3,>=2.5 in /usr/local/lib/python3.6/dist-packages (from requests->youtube_transcript_api) (2.9)\n",
            "Requirement already satisfied: chardet<4,>=3.0.2 in /usr/local/lib/python3.6/dist-packages (from requests->youtube_transcript_api) (3.0.4)\n",
            "Requirement already satisfied: urllib3!=1.25.0,!=1.25.1,<1.26,>=1.21.1 in /usr/local/lib/python3.6/dist-packages (from requests->youtube_transcript_api) (1.24.3)\n"
          ],
          "name": "stdout"
        }
      ]
    },
    {
      "cell_type": "code",
      "metadata": {
        "id": "YBeDTezgIvS2",
        "colab_type": "code",
        "colab": {
          "base_uri": "https://localhost:8080/",
          "height": 70
        },
        "outputId": "0236a643-56cf-4d97-cfdd-c7d5ebe1016c"
      },
      "source": [
        "from youtube_transcript_api import YouTubeTranscriptApi\n",
        "\n",
        "youtube_vid = \"https://www.youtube.com/watch?v=GlYwg0Ky2Ew\"\n",
        "video_id = youtube_vid.split(\"watch?v=\")\n",
        "video_id = video_id[1]\n",
        "YouTubeTranscriptApi.get_transcript(video_id)\n",
        "trans = YouTubeTranscriptApi.get_transcript(video_id)\n",
        "res = \"\"\n",
        "for i in trans:\n",
        "    res += ' ' + i['text']\n",
        "print(res)\n",
        "print(len(res))"
      ],
      "execution_count": null,
      "outputs": [
        {
          "output_type": "stream",
          "text": [
            " [Music] Alexander the Great he was an emperor of Greece he was born on July 20th 356 BC in Pella Mehsud in ancient Greece his father's name was philip ii of macedon and mother's name was ole impious his father was the king of Macedon as a child he learned to read write ride fight and hunt he grew up to be a brave boy and tamed an unruly horse when he was just 12 years old the horse named Bucephalus became his favorite horse and served him for several years King Philip asked the great philosopher Aristotle to teach Alexander and provided a temple of the nymphs at Mesa as a classroom [Music] Aristotle tutored Alexander and the children of Macedonian Nobles in subjects like medicine philosophy morals religion logic and art under his tutelage Alexander also developed a love for literature when Alexander was 16 his father left him in charge of the kingdom is a regent while he waged a war against Byzantium during Philips absence the thracian maedi revolted against Macedonia in spite of still being a young boy Alexander responded quickly and bravely drove them away from their territory King Philip was assassinated by the captain of his bodyguards policy Aeneas in 336 BC Alexander just twenty years old at that time was proclaimed king by the nobles and army upon ascending the throne he set upon eliminating all his domestic enemies and potential rivals to the throne he and his mother ordered the execution of his cousins and step-siblings who they considered to be threats the news of King Philip's death sparked a series of rebellion from the Thebes Athens Thessaly and the Thracian tribes north of Macedon Alexander gathered a Macedonian cavalry of 3,000 and forced the thessalian army to surrender he was also successful in defeating the Thracian tribes in 334 BC Alexander the Great led his army in the Battle of the Granicus River fought against the Persian Empire and got victory he started battle with King Darius the 3rd and got a big victory [Music] Alexander captured Darius's wife state era first his daughters state era - and dry Buddhists and his mother sisig Ambus and treated all the captured women very respectfully legs and ER and his army marched into India in 327 BC launching a campaign into the northwestern Indian subcontinent by this time he had become very ambitious and desired to conquer the entire known world which the Greeks thought ended in northwestern India the greatest of Alexander's Adil's in India was the Battle of the hai dispersed River against King poorest of the poor avec kingdom on the banks of the hai dispersed river in punjab in 326 the Macedonians emerged victorious and annexed punjab Alexander married three times first to Roxana at 328 BC later the Persian princesses - Tara - and Perez siddhis - at 325 BC Alexander died of malaria in the Palace of Nebuchadnezzar - in Babylon at the age of 32 in June 323 BC there is nothing impossible to him who will try said Alexander the Great [Music]\n",
            "2955\n"
          ],
          "name": "stdout"
        }
      ]
    },
    {
      "cell_type": "code",
      "metadata": {
        "id": "VHKlgYB3QjmJ",
        "colab_type": "code",
        "colab": {}
      },
      "source": [
        "summarizer = pipeline('summarization')"
      ],
      "execution_count": null,
      "outputs": []
    },
    {
      "cell_type": "code",
      "metadata": {
        "id": "N3AyfBKOPHZp",
        "colab_type": "code",
        "colab": {
          "base_uri": "https://localhost:8080/",
          "height": 104
        },
        "outputId": "208e3d67-09f7-4cb1-cfba-55615c786350"
      },
      "source": [
        "num_iters = int(len(res)/1000)\n",
        "result = []\n",
        "for i in range(0, num_iters + 1):\n",
        "  start = 0\n",
        "  start = i * 1000\n",
        "  end = (i + 1) * 1000\n",
        "  sum_text = res[start:end]\n",
        "  out = summarizer(sum_text)\n",
        "  out = out[0]\n",
        "  out = out['summary_text']\n",
        "  result.append(out)"
      ],
      "execution_count": null,
      "outputs": [
        {
          "output_type": "stream",
          "text": [
            "2\n",
            "Alexander the Great was an emperor of Greece. He was born on July 20th 356 BC in Pella Mehsud in ancient Greece. As a child he learned to read write ride fight and hunt. He tamed an unruly horse when he was just 12 years old. King Philip asked the great philosopher Aristotle to teach Alexander.\n",
            "King Philip was assassinated by the captain of his bodyguards policy Aeneas in 336 BC. The news of King Philip's death sparked a series of rebellion from the Thebes Athens Thessaly and the Thracian tribes north of Macedon. l being a young boy Alexander responded quickly and bravely drove them away from their territory.\n",
            "Alexander and his army marched into India in 327 BC launching a campaign into the northwestern Indian subcontinent. Alexander married three times first to Roxana at 328 BC later the Persian princesses - Tara - and Perez siddhis - at 325 BC Alexander died of malaria in the Palace of Nebuchadnezzar - in Babylon at the age of 32 in June 323 BC.\n"
          ],
          "name": "stdout"
        }
      ]
    },
    {
      "cell_type": "code",
      "metadata": {
        "id": "bdfMvPazT3P-",
        "colab_type": "code",
        "colab": {
          "base_uri": "https://localhost:8080/",
          "height": 54
        },
        "outputId": "9c71d4c7-6484-4c54-ab13-6f0c2f405962"
      },
      "source": [
        "print(result)"
      ],
      "execution_count": null,
      "outputs": [
        {
          "output_type": "stream",
          "text": [
            "['Alexander the Great was an emperor of Greece. He was born on July 20th 356 BC in Pella Mehsud in ancient Greece. As a child he learned to read write ride fight and hunt. He tamed an unruly horse when he was just 12 years old. King Philip asked the great philosopher Aristotle to teach Alexander.', \"King Philip was assassinated by the captain of his bodyguards policy Aeneas in 336 BC. The news of King Philip's death sparked a series of rebellion from the Thebes Athens Thessaly and the Thracian tribes north of Macedon. l being a young boy Alexander responded quickly and bravely drove them away from their territory.\", 'Alexander and his army marched into India in 327 BC launching a campaign into the northwestern Indian subcontinent. Alexander married three times first to Roxana at 328 BC later the Persian princesses - Tara - and Perez siddhis - at 325 BC Alexander died of malaria in the Palace of Nebuchadnezzar - in Babylon at the age of 32 in June 323 BC.']\n"
          ],
          "name": "stdout"
        }
      ]
    }
  ]
}